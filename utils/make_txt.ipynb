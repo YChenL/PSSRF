{
 "cells": [
  {
   "cell_type": "code",
   "execution_count": 1,
   "id": "a918e366-f184-488d-9d74-0822ea50c3aa",
   "metadata": {},
   "outputs": [],
   "source": [
    "# !/usr/bin/env python\n",
    "# -*- encoding: utf-8 -*-\n",
    " \n",
    "import os\n",
    "import random\n",
    "# file_path = 'E:/datasets/project3/LJSpeech-1.1/scaled/'\n",
    "# scaling_list=os.listdir(file_path)"
   ]
  },
  {
   "cell_type": "code",
   "execution_count": 2,
   "id": "6b388e35-3c02-46ad-b617-5f4873a8d8ac",
   "metadata": {},
   "outputs": [
    {
     "data": {
      "text/plain": [
       "119"
      ]
     },
     "execution_count": 2,
     "metadata": {},
     "output_type": "execute_result"
    }
   ],
   "source": [
    "len(scaling_list)"
   ]
  },
  {
   "cell_type": "code",
   "execution_count": null,
   "id": "c8ccdd60-96c0-4d23-8803-20b1f10fa016",
   "metadata": {},
   "outputs": [],
   "source": []
  },
  {
   "cell_type": "code",
   "execution_count": 3,
   "id": "51ae1667-936c-49af-a7f5-a029f6e2c8d5",
   "metadata": {},
   "outputs": [],
   "source": [
    "# id=0\n",
    "with open('pitch_scaling.txt','w') as f:\n",
    "    for scaling_name in scaling_list:\n",
    "        for file in os.listdir(os.path.join(file_path, scaling_name)):\n",
    "            f.write(os.path.join(file_path, scaling_name, file) + ' ' + str(scaling_name.split('_')[1]) + ' ' + str(scaling_name.split('_')[2]) + '\\n')\n",
    "            \n",
    "        # id+=1"
   ]
  },
  {
   "cell_type": "code",
   "execution_count": 11,
   "id": "1d76d7bb-46a8-42d8-a8d7-1971775abb64",
   "metadata": {},
   "outputs": [],
   "source": [
    "file_path='E:/datasets/project3/AISHELL-3/scaled/'\n",
    "xvector_path = 'E:/datasets/project3/AISHELL-3/x_vector'\n",
    "\n",
    "with open('pitch_scaling2.txt','w') as f:\n",
    "    for spk_id in os.listdir(file_path):\n",
    "        file_list = os.listdir(os.path.join(file_path, spk_id))\n",
    "        for file in file_list:\n",
    "            f.write(os.path.join(os.path.join(file_path, spk_id), file) + ' ' + os.path.join(os.path.join(xvector_path, spk_id), file.split('_')[0]+'.pt') \n",
    "                    + ' ' + str(file.split('_')[1]) + ' ' + str(file.split('_')[2].split('.')[0]+'.'+file.split('_')[2].split('.')[1]) + '\\n')\n",
    "    "
   ]
  },
  {
   "cell_type": "code",
   "execution_count": 2,
   "id": "56414072-80c4-4fb5-8ed4-07eea5ee0074",
   "metadata": {},
   "outputs": [],
   "source": [
    "file_path='E:/datasets/project3/AISHELL-3/scaled/'\n",
    "\n",
    "with open('pitch_scaling3.txt','w') as f:\n",
    "    for spk_id in os.listdir(file_path):\n",
    "        file_list = os.listdir(os.path.join(file_path, spk_id))\n",
    "        for file in file_list:\n",
    "            f.write(os.path.join(os.path.join(file_path, spk_id), file) + ' ' + str(file.split('_')[1]) + ' ' + str(file.split('_')[2].split('.')[0]+'.'+file.split('_')[2].split('.')[1]) + '\\n')"
   ]
  },
  {
   "cell_type": "code",
   "execution_count": null,
   "id": "6cd902f8-77b1-4d10-96d2-60a9a77e81f2",
   "metadata": {},
   "outputs": [],
   "source": [
    "random.shuffle(self.xvector_list)  "
   ]
  },
  {
   "cell_type": "markdown",
   "id": "6a588f32-c549-4a31-9f6a-68aa8cff0dd8",
   "metadata": {},
   "source": [
    "##### joint_factor"
   ]
  },
  {
   "cell_type": "code",
   "execution_count": 2,
   "id": "f1bbd29f-6339-4a4e-9987-59df46b7f128",
   "metadata": {
    "collapsed": true,
    "jupyter": {
     "outputs_hidden": true
    },
    "tags": []
   },
   "outputs": [
    {
     "ename": "IndexError",
     "evalue": "list index out of range",
     "output_type": "error",
     "traceback": [
      "\u001b[1;31m---------------------------------------------------------------------------\u001b[0m",
      "\u001b[1;31mIndexError\u001b[0m                                Traceback (most recent call last)",
      "\u001b[1;32m~\\AppData\\Local\\Temp/ipykernel_21684/214578129.py\u001b[0m in \u001b[0;36m<module>\u001b[1;34m\u001b[0m\n\u001b[0;32m      5\u001b[0m         \u001b[0mfile_list\u001b[0m \u001b[1;33m=\u001b[0m \u001b[0mos\u001b[0m\u001b[1;33m.\u001b[0m\u001b[0mlistdir\u001b[0m\u001b[1;33m(\u001b[0m\u001b[0mos\u001b[0m\u001b[1;33m.\u001b[0m\u001b[0mpath\u001b[0m\u001b[1;33m.\u001b[0m\u001b[0mjoin\u001b[0m\u001b[1;33m(\u001b[0m\u001b[0mfile_path\u001b[0m\u001b[1;33m,\u001b[0m \u001b[0mspk_id\u001b[0m\u001b[1;33m)\u001b[0m\u001b[1;33m)\u001b[0m\u001b[1;33m\u001b[0m\u001b[1;33m\u001b[0m\u001b[0m\n\u001b[0;32m      6\u001b[0m         \u001b[1;32mfor\u001b[0m \u001b[0mfile\u001b[0m \u001b[1;32min\u001b[0m \u001b[0mfile_list\u001b[0m\u001b[1;33m:\u001b[0m\u001b[1;33m\u001b[0m\u001b[1;33m\u001b[0m\u001b[0m\n\u001b[1;32m----> 7\u001b[1;33m             \u001b[0mf\u001b[0m\u001b[1;33m.\u001b[0m\u001b[0mwrite\u001b[0m\u001b[1;33m(\u001b[0m\u001b[0mos\u001b[0m\u001b[1;33m.\u001b[0m\u001b[0mpath\u001b[0m\u001b[1;33m.\u001b[0m\u001b[0mjoin\u001b[0m\u001b[1;33m(\u001b[0m\u001b[0mfile_path\u001b[0m\u001b[1;33m,\u001b[0m \u001b[0mspk_id\u001b[0m\u001b[1;33m,\u001b[0m \u001b[0mfile\u001b[0m\u001b[1;33m)\u001b[0m \u001b[1;33m+\u001b[0m \u001b[1;34m' '\u001b[0m \u001b[1;33m+\u001b[0m \u001b[0mstr\u001b[0m\u001b[1;33m(\u001b[0m\u001b[0mfile\u001b[0m\u001b[1;33m.\u001b[0m\u001b[0msplit\u001b[0m\u001b[1;33m(\u001b[0m\u001b[1;34m'_'\u001b[0m\u001b[1;33m)\u001b[0m\u001b[1;33m[\u001b[0m\u001b[1;36m1\u001b[0m\u001b[1;33m]\u001b[0m\u001b[1;33m)\u001b[0m \u001b[1;33m+\u001b[0m \u001b[1;34m'\\n'\u001b[0m\u001b[1;33m)\u001b[0m\u001b[1;33m\u001b[0m\u001b[1;33m\u001b[0m\u001b[0m\n\u001b[0m",
      "\u001b[1;31mIndexError\u001b[0m: list index out of range"
     ]
    }
   ],
   "source": [
    "file_path='E:/datasets/project3/AISHELL-1/unseen_praat/'\n",
    "\n",
    "with open('pitch_scaling_joint1_praat.txt','w') as f:\n",
    "    for spk_id in os.listdir(file_path):\n",
    "        file_list = os.listdir(os.path.join(file_path, spk_id))\n",
    "        for file in file_list:\n",
    "            f.write(os.path.join(file_path, spk_id, file) + ' ' + str(file.split('_')[1]) + '\\n')"
   ]
  },
  {
   "cell_type": "code",
   "execution_count": 2,
   "id": "8d4658c4-09e9-4a5e-b286-76167d7bcd7e",
   "metadata": {},
   "outputs": [],
   "source": [
    "file_path='E:/datasets/project3/AISHELL-3/scaled/'\n",
    "file_path2='E:/datasets/project3/AISHELL-3/org/'\n",
    "\n",
    "with open('pitch_scaling_spk_joint.txt','w') as f:\n",
    "    for spk_id in os.listdir(file_path):\n",
    "        file_list = os.listdir(os.path.join(file_path, spk_id))\n",
    "        for file in file_list:\n",
    "            f.write(os.path.join(file_path, spk_id, file) + ' ' + os.path.join(file_path2, spk_id, file.split('_')[0]+'.wav') + ' ' + str(file.split('_')[1]) + '\\n')"
   ]
  },
  {
   "cell_type": "code",
   "execution_count": 3,
   "id": "7a38a185-5531-446d-9dec-f7b3f4ea225a",
   "metadata": {},
   "outputs": [],
   "source": [
    "file_path='F:/datasets/project3/AISHELL-3/scaled/'\n",
    "file_path2='F:/datasets/project3/AISHELL-3/org/'\n",
    "\n",
    "with open('pitch_scaling_joint2.txt','w') as f:\n",
    "    for spk_id in os.listdir(file_path):\n",
    "        file_list = os.listdir(os.path.join(file_path, spk_id))\n",
    "        for file in file_list:\n",
    "            f.write(os.path.join(file_path, spk_id, file) + ' ' + os.path.join(file_path2, spk_id, file.split('_')[0]+'.wav') + ' ' + str(file.split('_')[1]) + '\\n')"
   ]
  },
  {
   "cell_type": "code",
   "execution_count": null,
   "id": "0f751768-4b4b-4ba6-a782-b00c1c982200",
   "metadata": {},
   "outputs": [],
   "source": []
  },
  {
   "cell_type": "code",
   "execution_count": 2,
   "id": "5df8d91e-4fc9-4c7c-886f-1df4082823b4",
   "metadata": {
    "collapsed": true,
    "jupyter": {
     "outputs_hidden": true
    },
    "tags": []
   },
   "outputs": [
    {
     "ename": "NameError",
     "evalue": "name 'librosa' is not defined",
     "output_type": "error",
     "traceback": [
      "\u001b[1;31m---------------------------------------------------------------------------\u001b[0m",
      "\u001b[1;31mNameError\u001b[0m                                 Traceback (most recent call last)",
      "\u001b[1;32m~\\AppData\\Local\\Temp/ipykernel_8984/3591939036.py\u001b[0m in \u001b[0;36m<module>\u001b[1;34m\u001b[0m\n\u001b[0;32m      7\u001b[0m     \u001b[1;32mif\u001b[0m \u001b[0mlen\u001b[0m\u001b[1;33m(\u001b[0m\u001b[0mfile_list\u001b[0m\u001b[1;33m)\u001b[0m\u001b[1;33m>=\u001b[0m\u001b[1;36m100\u001b[0m\u001b[1;33m:\u001b[0m\u001b[1;33m\u001b[0m\u001b[1;33m\u001b[0m\u001b[0m\n\u001b[0;32m      8\u001b[0m         \u001b[1;32mfor\u001b[0m \u001b[0mfile\u001b[0m \u001b[1;32min\u001b[0m \u001b[0mfile_list\u001b[0m\u001b[1;33m:\u001b[0m\u001b[1;33m\u001b[0m\u001b[1;33m\u001b[0m\u001b[0m\n\u001b[1;32m----> 9\u001b[1;33m             \u001b[0mwav\u001b[0m\u001b[1;33m,\u001b[0m \u001b[0msr1\u001b[0m \u001b[1;33m=\u001b[0m \u001b[0mlibrosa\u001b[0m\u001b[1;33m.\u001b[0m\u001b[0mload\u001b[0m\u001b[1;33m(\u001b[0m\u001b[0mos\u001b[0m\u001b[1;33m.\u001b[0m\u001b[0mpath\u001b[0m\u001b[1;33m.\u001b[0m\u001b[0mjoin\u001b[0m\u001b[1;33m(\u001b[0m\u001b[0mfile_path\u001b[0m\u001b[1;33m,\u001b[0m \u001b[0mspk_id\u001b[0m\u001b[1;33m,\u001b[0m \u001b[0mfile\u001b[0m\u001b[1;33m)\u001b[0m\u001b[1;33m,\u001b[0m \u001b[0msr\u001b[0m\u001b[1;33m=\u001b[0m\u001b[1;36m22050\u001b[0m\u001b[1;33m)\u001b[0m\u001b[1;33m\u001b[0m\u001b[1;33m\u001b[0m\u001b[0m\n\u001b[0m\u001b[0;32m     10\u001b[0m             \u001b[1;32mif\u001b[0m \u001b[1;32mnot\u001b[0m \u001b[0mos\u001b[0m\u001b[1;33m.\u001b[0m\u001b[0mpath\u001b[0m\u001b[1;33m.\u001b[0m\u001b[0misdir\u001b[0m\u001b[1;33m(\u001b[0m\u001b[0mos\u001b[0m\u001b[1;33m.\u001b[0m\u001b[0mpath\u001b[0m\u001b[1;33m.\u001b[0m\u001b[0mjoin\u001b[0m\u001b[1;33m(\u001b[0m\u001b[0mfile_path2\u001b[0m\u001b[1;33m,\u001b[0m \u001b[0mspk_id\u001b[0m\u001b[1;33m)\u001b[0m\u001b[1;33m)\u001b[0m\u001b[1;33m:\u001b[0m\u001b[1;33m\u001b[0m\u001b[1;33m\u001b[0m\u001b[0m\n\u001b[0;32m     11\u001b[0m                 \u001b[0mos\u001b[0m\u001b[1;33m.\u001b[0m\u001b[0mmakedirs\u001b[0m\u001b[1;33m(\u001b[0m\u001b[0mos\u001b[0m\u001b[1;33m.\u001b[0m\u001b[0mpath\u001b[0m\u001b[1;33m.\u001b[0m\u001b[0mjoin\u001b[0m\u001b[1;33m(\u001b[0m\u001b[0mfile_path2\u001b[0m\u001b[1;33m,\u001b[0m \u001b[0mspk_id\u001b[0m\u001b[1;33m)\u001b[0m\u001b[1;33m)\u001b[0m\u001b[1;33m\u001b[0m\u001b[1;33m\u001b[0m\u001b[0m\n",
      "\u001b[1;31mNameError\u001b[0m: name 'librosa' is not defined"
     ]
    }
   ],
   "source": [
    "file_path='E:/datasets/project3/AISHELL-3/test/wav/'\n",
    "file_path2='E:/datasets/project3/AISHELL-3/unseen/'\n",
    "\n",
    "unseen_spklist = []\n",
    "for spk_id in os.listdir(file_path):\n",
    "    file_list = os.listdir(os.path.join(file_path, spk_id))\n",
    "    if len(file_list)>=100:\n",
    "        for file in file_list:\n",
    "            wav, sr1 = librosa.load(os.path.join(file_path, spk_id, file), sr=22050)\n",
    "            if not os.path.isdir(os.path.join(file_path2, spk_id)):\n",
    "                os.makedirs(os.path.join(file_path2, spk_id))  \n",
    "            sf.write(os.path.join(file_path2, spk_id, file), wav, sr1)\n",
    "    else:\n",
    "        pass"
   ]
  },
  {
   "cell_type": "code",
   "execution_count": 4,
   "id": "a77594f1-514b-45b6-acdd-241cacdd0bdc",
   "metadata": {},
   "outputs": [],
   "source": [
    "file_path='F:/datasets/project3/AISHELL-3/scaled/'\n",
    "\n",
    "with open('pitch_scaling_joint.txt','w') as f:\n",
    "    for spk_id in os.listdir(file_path):\n",
    "        file_list = os.listdir(os.path.join(file_path, spk_id))\n",
    "        for file in file_list:\n",
    "            f.write(os.path.join(file_path, spk_id, file) + ' ' + str(file.split('_')[1]) + '\\n')"
   ]
  },
  {
   "cell_type": "code",
   "execution_count": 13,
   "id": "b112d01b-6e52-45ac-82b9-dd7bac52078d",
   "metadata": {},
   "outputs": [],
   "source": [
    "file_path='E:/datasets/project3/AISHELL-1/unseen_matlab/'\n",
    "\n",
    "with open('pitch_scaling_joint1_unseen_matlab.txt','w') as f:\n",
    "    for spk_id in os.listdir(file_path):\n",
    "        file_list = os.listdir(os.path.join(file_path, spk_id))\n",
    "        for file in file_list:\n",
    "            f.write(os.path.join(file_path, spk_id, file) + ' ' + str(spk_id) + '\\n')"
   ]
  },
  {
   "cell_type": "code",
   "execution_count": 8,
   "id": "b7cdd837-7f08-43df-a114-3f83f071cdb0",
   "metadata": {},
   "outputs": [
    {
     "data": {
      "text/plain": [
       "\"\\n取出spk_id\\nspk_id = str(filename.split('.')[0:7])\\n取随机random\\n\""
      ]
     },
     "execution_count": 8,
     "metadata": {},
     "output_type": "execute_result"
    }
   ],
   "source": [
    "'''\n",
    "取出spk_id\n",
    "spk_id = str(filename.split('.')[0:7])\n",
    "取随机random\n",
    "'''"
   ]
  },
  {
   "cell_type": "code",
   "execution_count": 21,
   "id": "2de04248-5400-47a0-aea6-14f30975299b",
   "metadata": {
    "tags": []
   },
   "outputs": [],
   "source": [
    "file_path='E:/datasets/project3/AISHELL-3/seen/'\n",
    "# file_path='E:/datasets/project3/AISHELL-1/unseen_iZotope/'\n",
    "file_path2='E:/datasets/project3/AISHELL-3/seen/'\n",
    "\n",
    "with open('ASV_A3_seen.txt','w') as f:\n",
    "    for a in os.listdir(file_path):\n",
    "        file_list = os.listdir(os.path.join(file_path, a))\n",
    "        for file in file_list:\n",
    "            spk_id = str(file.split('.')[0][0:7])\n",
    "            # spk_id = str(file.split('.')[0][6:11])\n",
    "            orgfile_path = os.listdir(os.path.join(file_path2, spk_id))\n",
    "            # random.seed(1234)\n",
    "            random.shuffle(orgfile_path)  \n",
    "            f.write(os.path.join(file_path, a, file) + ' ' + os.path.join(file_path2, spk_id, orgfile_path[0]) + ' ' + str(a) + '\\n') "
   ]
  },
  {
   "cell_type": "code",
   "execution_count": 26,
   "id": "f087ca94-f919-4f83-9de7-271fc379b210",
   "metadata": {},
   "outputs": [],
   "source": [
    "#### librosa"
   ]
  },
  {
   "cell_type": "code",
   "execution_count": 36,
   "id": "c923d6cd-509b-40c6-859e-7e442470f425",
   "metadata": {},
   "outputs": [],
   "source": [
    "# file_path='E:/datasets/project3/AISHELL-3/unseen_scaled/'\n",
    "file_path='E:/datasets/project3/AISHELL-3/seen_scaled/'\n",
    "file_path2='E:/datasets/project3/AISHELL-3/seen/'\n",
    "\n",
    "with open('pitch_scaling_validation_seen_librosa.txt','w') as f:\n",
    "    for spk in os.listdir(file_path):\n",
    "        file_list = os.listdir(os.path.join(file_path, spk))\n",
    "        for file in file_list:\n",
    "            orgfile_path = os.listdir(os.path.join(file_path2, spk))\n",
    "            # random.seed(1234)\n",
    "            random.shuffle(orgfile_path)  \n",
    "            f.write(os.path.join(file_path, spk, file) + ' ' + os.path.join(file_path2, spk, orgfile_path[0]) + ' ' + str(file.split('_')[1]) + '\\n') "
   ]
  },
  {
   "cell_type": "code",
   "execution_count": 18,
   "id": "0bbb6e20-cc5e-4155-b24f-b1b50a346e11",
   "metadata": {},
   "outputs": [],
   "source": [
    "a = 2\n",
    "b = 3"
   ]
  },
  {
   "cell_type": "code",
   "execution_count": 19,
   "id": "f23da0e0-8429-4939-9486-e9f285aef229",
   "metadata": {},
   "outputs": [
    {
     "name": "stdout",
     "output_type": "stream",
     "text": [
      "2 / 3\n"
     ]
    }
   ],
   "source": [
    "print(a,'/',b)"
   ]
  },
  {
   "cell_type": "code",
   "execution_count": 22,
   "id": "e719ee8b-923e-4726-be0e-8bbc6486922d",
   "metadata": {},
   "outputs": [
    {
     "data": {
      "text/plain": [
       "1"
      ]
     },
     "execution_count": 22,
     "metadata": {},
     "output_type": "execute_result"
    }
   ],
   "source": [
    "4%3"
   ]
  },
  {
   "cell_type": "code",
   "execution_count": null,
   "id": "44ea00af-ab4e-4725-b9b5-d4fcf6016541",
   "metadata": {},
   "outputs": [],
   "source": []
  }
 ],
 "metadata": {
  "kernelspec": {
   "display_name": "Python 3 (ipykernel)",
   "language": "python",
   "name": "python3"
  },
  "language_info": {
   "codemirror_mode": {
    "name": "ipython",
    "version": 3
   },
   "file_extension": ".py",
   "mimetype": "text/x-python",
   "name": "python",
   "nbconvert_exporter": "python",
   "pygments_lexer": "ipython3",
   "version": "3.9.13"
  }
 },
 "nbformat": 4,
 "nbformat_minor": 5
}
