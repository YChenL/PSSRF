{
 "cells": [
  {
   "cell_type": "code",
   "execution_count": 14,
   "id": "21263589-bb84-4306-95d5-bf97687a7c4c",
   "metadata": {},
   "outputs": [],
   "source": [
    "import soundfile\n",
    "import torchaudio\n",
    "from speechbrain.pretrained import EncoderClassifier\n",
    "classifier = EncoderClassifier.from_hparams(source=\"speechbrain/spkrec-ecapa-voxceleb\", run_opts={\"device\":\"cuda\"})\n",
    "\n",
    "from speechbrain.pretrained import SpeakerRecognition\n",
    "verification = SpeakerRecognition.from_hparams(source=\"speechbrain/spkrec-ecapa-voxceleb\", run_opts={\"device\":\"cuda\"}, \n",
    "                                               savedir=\"pretrained_models/spkrec-ecapa-voxceleb\")"
   ]
  },
  {
   "cell_type": "code",
   "execution_count": 17,
   "id": "8fb51b55-cdfe-41b6-be77-1b803fdc9440",
   "metadata": {},
   "outputs": [],
   "source": [
    "score, prediction = verification.verify_files(\"E:/datasets/project3/recover/SSB00050001_recover1.wav\", \n",
    "                                              \"E:/datasets/project3/recover/SSB00050001.wav\")"
   ]
  },
  {
   "cell_type": "code",
   "execution_count": 18,
   "id": "4de719dc-ddbb-405e-9519-ce6352f18fa5",
   "metadata": {},
   "outputs": [
    {
     "data": {
      "text/plain": [
       "tensor([0.8315], device='cuda:0')"
      ]
     },
     "execution_count": 18,
     "metadata": {},
     "output_type": "execute_result"
    }
   ],
   "source": [
    "score"
   ]
  },
  {
   "cell_type": "code",
   "execution_count": 15,
   "id": "96e3e2f3-e0c9-4de9-9b7a-389de68081d2",
   "metadata": {},
   "outputs": [],
   "source": [
    "score, prediction = verification.verify_files(\"E:/datasets/project3/recover/SSB00050001_recover2.wav\", \n",
    "                                              \"E:/datasets/project3/recover/SSB00050001.wav\")"
   ]
  },
  {
   "cell_type": "code",
   "execution_count": 16,
   "id": "59bafb76-2f9c-4f1f-90f2-8eb28d4e86ae",
   "metadata": {},
   "outputs": [
    {
     "data": {
      "text/plain": [
       "tensor([0.8070], device='cuda:0')"
      ]
     },
     "execution_count": 16,
     "metadata": {},
     "output_type": "execute_result"
    }
   ],
   "source": [
    "score"
   ]
  },
  {
   "cell_type": "code",
   "execution_count": 19,
   "id": "d8fe41b4-e6b5-41df-b3a4-1e250d3af88d",
   "metadata": {},
   "outputs": [],
   "source": [
    "score, prediction = verification.verify_files(\"E:/datasets/project3/recover/SSB00050008_0.0_.wav\", \n",
    "                                              \"E:/datasets/project3/recover/SSB00050008_recover1.wav\")"
   ]
  },
  {
   "cell_type": "code",
   "execution_count": 20,
   "id": "0671edec-8093-46af-862d-2d99c66133f1",
   "metadata": {},
   "outputs": [
    {
     "data": {
      "text/plain": [
       "tensor([0.7625], device='cuda:0')"
      ]
     },
     "execution_count": 20,
     "metadata": {},
     "output_type": "execute_result"
    }
   ],
   "source": [
    "score"
   ]
  },
  {
   "cell_type": "code",
   "execution_count": 21,
   "id": "7c35fe1d-fa2c-40c6-81ec-8af6569042c6",
   "metadata": {},
   "outputs": [],
   "source": [
    "score, prediction = verification.verify_files(\"E:/datasets/project3/recover/SSB00050008_0.0_.wav\", \n",
    "                                              \"E:/datasets/project3/recover/SSB00050008_recover2.wav\")"
   ]
  },
  {
   "cell_type": "code",
   "execution_count": 22,
   "id": "38e850c3-58f9-470d-80db-a2373b55c6d3",
   "metadata": {},
   "outputs": [
    {
     "data": {
      "text/plain": [
       "tensor([0.7681], device='cuda:0')"
      ]
     },
     "execution_count": 22,
     "metadata": {},
     "output_type": "execute_result"
    }
   ],
   "source": [
    "score"
   ]
  },
  {
   "cell_type": "code",
   "execution_count": 23,
   "id": "11da7290-9468-4eb6-833a-264c99323915",
   "metadata": {},
   "outputs": [],
   "source": [
    "score, prediction = verification.verify_files(\"E:/datasets/project3/recover/SSB19020012.wav\", \n",
    "                                              \"E:/datasets/project3/recover/SSB19020012_recover1.wav\")"
   ]
  },
  {
   "cell_type": "code",
   "execution_count": 24,
   "id": "268054e7-40df-478e-962d-8f7af3c169bb",
   "metadata": {},
   "outputs": [
    {
     "data": {
      "text/plain": [
       "tensor([0.5874], device='cuda:0')"
      ]
     },
     "execution_count": 24,
     "metadata": {},
     "output_type": "execute_result"
    }
   ],
   "source": [
    "score"
   ]
  },
  {
   "cell_type": "code",
   "execution_count": 33,
   "id": "db6e397d-5b80-4a30-acda-f7310c0e4434",
   "metadata": {},
   "outputs": [
    {
     "data": {
      "text/plain": [
       "tensor([False], device='cuda:0')"
      ]
     },
     "execution_count": 33,
     "metadata": {},
     "output_type": "execute_result"
    }
   ],
   "source": [
    "prediction"
   ]
  },
  {
   "cell_type": "code",
   "execution_count": 25,
   "id": "e066890d-d446-45de-8f90-7818c2c2eafb",
   "metadata": {},
   "outputs": [],
   "source": [
    "score, prediction = verification.verify_files(\"E:/datasets/project3/recover/SSB19020012.wav\", \n",
    "                                              \"E:/datasets/project3/recover/SSB19020012_recover2.wav\")"
   ]
  },
  {
   "cell_type": "code",
   "execution_count": 26,
   "id": "ef968021-b9ec-4b44-bac5-405aa92fabe4",
   "metadata": {},
   "outputs": [
    {
     "data": {
      "text/plain": [
       "tensor([0.6196], device='cuda:0')"
      ]
     },
     "execution_count": 26,
     "metadata": {},
     "output_type": "execute_result"
    }
   ],
   "source": [
    "score"
   ]
  },
  {
   "cell_type": "code",
   "execution_count": 36,
   "id": "56d19409-0e8c-433b-b900-21106786b327",
   "metadata": {},
   "outputs": [
    {
     "data": {
      "text/plain": [
       "tensor([True], device='cuda:0')"
      ]
     },
     "execution_count": 36,
     "metadata": {},
     "output_type": "execute_result"
    }
   ],
   "source": [
    "prediction"
   ]
  },
  {
   "cell_type": "code",
   "execution_count": 41,
   "id": "47439a71-f44a-4302-bc5a-6c9673d25223",
   "metadata": {},
   "outputs": [],
   "source": [
    "score, prediction = verification.verify_files(\"E:/datasets/project3/AISHELL-3/scale1/SSB0016/SSB00160009_0.0_.wav\", \n",
    "                                              \"E:/datasets/project3/recover/SSB00160002_rec.wav\")"
   ]
  },
  {
   "cell_type": "code",
   "execution_count": 42,
   "id": "df66bda4-e6e2-43c9-9261-011055c82207",
   "metadata": {},
   "outputs": [
    {
     "data": {
      "text/plain": [
       "tensor([0.2844], device='cuda:0')"
      ]
     },
     "execution_count": 42,
     "metadata": {},
     "output_type": "execute_result"
    }
   ],
   "source": [
    "score"
   ]
  },
  {
   "cell_type": "code",
   "execution_count": null,
   "id": "1024b99e-05dd-4f85-8c30-fa18576f73c0",
   "metadata": {},
   "outputs": [],
   "source": []
  }
 ],
 "metadata": {
  "kernelspec": {
   "display_name": "Python 3 (ipykernel)",
   "language": "python",
   "name": "python3"
  },
  "language_info": {
   "codemirror_mode": {
    "name": "ipython",
    "version": 3
   },
   "file_extension": ".py",
   "mimetype": "text/x-python",
   "name": "python",
   "nbconvert_exporter": "python",
   "pygments_lexer": "ipython3",
   "version": "3.8.12"
  }
 },
 "nbformat": 4,
 "nbformat_minor": 5
}
