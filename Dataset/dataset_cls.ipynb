{
 "cells": [
  {
   "cell_type": "code",
   "execution_count": 6,
   "id": "71c3f2f3-c016-4415-8483-32eff872e365",
   "metadata": {},
   "outputs": [],
   "source": [
    "import torch\n",
    "from torch.utils.data.distributed import DistributedSampler\n",
    "import os\n",
    "# from .mel2samp import Mel2Samp\n",
    "\n",
    "class Mel2Samp(torch.utils.data.Dataset):\n",
    "    \"\"\"\n",
    "    This is the main class that calculates the spectrogram and returns the\n",
    "    spectrogram, audio pair.\n",
    "    \"\"\"\n",
    "    def __init__(self, data_path):\n",
    "        # self.file_list = os.listdir(data_path)#文件类型：org；scaled\n",
    "        self.data_path = data_path\n",
    "        self.label_list = []\n",
    "        self.file_list = []\n",
    "        for label in os.listdir(data_path): \n",
    "            for filename in os.listdir(os.path.join(data_path, label)):\n",
    "               self.file_list.append(filename) \n",
    "               self.label_list.append(label)\n",
    "            \n",
    "    def __getitem__(self, index):\n",
    "        # Read audio \n",
    "        filename = self.file_list[index]\n",
    "        label = self.label_list[index]\n",
    "        \n",
    "        file = torch.load(os.path.join(self.data_path, label, filename))\n",
    "        \n",
    "        return (file, int(label))\n",
    "\n",
    "    def __len__(self):\n",
    "        return len(self.file_list)\n",
    "    \n",
    "    \n",
    "def load_LJSpeech(data_path, batch_size=16, num_gpus=1):\n",
    "    LJSpeech_dataset = Mel2Samp( data_path= data_path)\n",
    "\n",
    "    # distributed sampler\n",
    "    train_sampler = DistributedSampler(LJSpeech_dataset) if num_gpus > 1 else None\n",
    "\n",
    "    trainloader = torch.utils.data.DataLoader(LJSpeech_dataset, \n",
    "                                              batch_size=batch_size,  \n",
    "                                              sampler=train_sampler,\n",
    "                                              num_workers=4,\n",
    "                                              pin_memory=False,\n",
    "                                              drop_last=True)\n",
    "    return trainloader\n"
   ]
  },
  {
   "cell_type": "code",
   "execution_count": 7,
   "id": "e24e2c41-8868-47bb-84cc-9221b86bd570",
   "metadata": {},
   "outputs": [],
   "source": [
    "LJSpeech_dataset = Mel2Samp( data_path= 'E:/datasets/project3/LJSpeech-1.1/train/classifier')"
   ]
  },
  {
   "cell_type": "code",
   "execution_count": 3,
   "id": "fa187609-9c4f-4eb5-841e-5aa915784a87",
   "metadata": {},
   "outputs": [],
   "source": [
    "L = load_LJSpeech('E:/datasets/project3/LJSpeech-1.1/train/classifier')"
   ]
  },
  {
   "cell_type": "code",
   "execution_count": 4,
   "id": "39266302-a201-41da-8f48-838ed873e020",
   "metadata": {},
   "outputs": [
    {
     "data": {
      "text/plain": [
       "6547"
      ]
     },
     "execution_count": 4,
     "metadata": {},
     "output_type": "execute_result"
    }
   ],
   "source": [
    "len(L)"
   ]
  },
  {
   "cell_type": "code",
   "execution_count": 8,
   "id": "92d59b91-992f-49c4-8f38-0c375786826d",
   "metadata": {},
   "outputs": [],
   "source": [
    " x, y = next(iter(LJSpeech_dataset))"
   ]
  },
  {
   "cell_type": "code",
   "execution_count": 9,
   "id": "45ed533e-38f9-4bb3-8b85-416e38cae1fb",
   "metadata": {},
   "outputs": [
    {
     "data": {
      "text/plain": [
       "torch.Size([80, 164])"
      ]
     },
     "execution_count": 9,
     "metadata": {},
     "output_type": "execute_result"
    }
   ],
   "source": [
    "x.shape"
   ]
  },
  {
   "cell_type": "code",
   "execution_count": 10,
   "id": "63b8f45a-261e-42c4-bb57-40268123c47e",
   "metadata": {},
   "outputs": [
    {
     "data": {
      "text/plain": [
       "-1"
      ]
     },
     "execution_count": 10,
     "metadata": {},
     "output_type": "execute_result"
    }
   ],
   "source": [
    "y "
   ]
  },
  {
   "cell_type": "code",
   "execution_count": null,
   "id": "33e81b75-0b9d-4bac-afeb-5bf645260fc8",
   "metadata": {},
   "outputs": [],
   "source": [
    "for i,ele in L:\n",
    "    for i in range(10):\n",
    "        print(ele[0].shape)"
   ]
  },
  {
   "cell_type": "code",
   "execution_count": null,
   "id": "1e2d5c7f-552c-43b2-91e6-a4141ca58da2",
   "metadata": {},
   "outputs": [],
   "source": []
  }
 ],
 "metadata": {
  "kernelspec": {
   "display_name": "Python 3 (ipykernel)",
   "language": "python",
   "name": "python3"
  },
  "language_info": {
   "codemirror_mode": {
    "name": "ipython",
    "version": 3
   },
   "file_extension": ".py",
   "mimetype": "text/x-python",
   "name": "python",
   "nbconvert_exporter": "python",
   "pygments_lexer": "ipython3",
   "version": "3.8.12"
  }
 },
 "nbformat": 4,
 "nbformat_minor": 5
}
